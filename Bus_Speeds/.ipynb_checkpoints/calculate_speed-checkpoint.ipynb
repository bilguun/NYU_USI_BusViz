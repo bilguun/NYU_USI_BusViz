{
 "metadata": {
  "name": "",
  "signature": "sha256:b42dd9e71d2aa3fd04a9b6cda86517feb4bccbd1ca556c756816bd06aa7ccae3"
 },
 "nbformat": 3,
 "nbformat_minor": 0,
 "worksheets": [
  {
   "cells": [
    {
     "cell_type": "code",
     "collapsed": false,
     "input": [
      "import pandas as pd\n",
      "\n",
      "pigout = pd.from_csv('output-pig1-clean', header=0)"
     ],
     "language": "python",
     "metadata": {},
     "outputs": []
    }
   ],
   "metadata": {}
  }
 ]
}