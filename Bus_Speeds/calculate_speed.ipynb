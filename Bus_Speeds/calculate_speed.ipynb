{
 "metadata": {
  "name": "",
  "signature": "sha256:910fd5928a92400320692aa244d2ab9993576b71d7cf3523b7f553c955594bf3"
 },
 "nbformat": 3,
 "nbformat_minor": 0,
 "worksheets": [
  {
   "cells": [
    {
     "cell_type": "code",
     "collapsed": false,
     "input": [
      "import pandas as pd\n",
      "\n",
      "pigout = pd.read_csv('output-pig1-clean.txt', header = 0, sep='\\t')\n",
      "routeout = pd.read_csv('B38_Direction0-clean.txt', header = 0, sep='\\t')"
     ],
     "language": "python",
     "metadata": {},
     "outputs": [],
     "prompt_number": 12
    },
    {
     "cell_type": "code",
     "collapsed": false,
     "input": [
      "merged = pd.merge(pigout, routeout, left_on='ID', right_on='ID')"
     ],
     "language": "python",
     "metadata": {},
     "outputs": [],
     "prompt_number": 13
    },
    {
     "cell_type": "code",
     "collapsed": false,
     "input": [
      "merged.to_csv('speed.csv')"
     ],
     "language": "python",
     "metadata": {},
     "outputs": [],
     "prompt_number": 15
    }
   ],
   "metadata": {}
  }
 ]
}