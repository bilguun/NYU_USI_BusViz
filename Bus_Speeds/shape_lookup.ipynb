{
 "cells": [
  {
   "cell_type": "code",
   "execution_count": 1,
   "metadata": {
    "collapsed": true
   },
   "outputs": [],
   "source": [
    "from geopandas import GeoDataFrame as df\n",
    "import math\n",
    "from math import sin, cos, sqrt, atan2, radians\n",
    "from shapely.geometry import LineString,Point\n",
    "import json\n",
    "%matplotlib inline\n",
    "R=6373.0"
   ]
  },
  {
   "cell_type": "markdown",
   "metadata": {},
   "source": [
    "#from shape generate start_end points in sequence"
   ]
  },
  {
   "cell_type": "code",
   "execution_count": 12,
   "metadata": {
    "collapsed": true
   },
   "outputs": [],
   "source": [
    "allstation=df.from_csv('shapes.txt',index_col=None)\n",
    "allstation['shape_group']=allstation['shape_pt_sequence'].apply(lambda x: math.floor(x/10000))\n",
    "start_point=allstation.groupby(by=['shape_id','shape_group']).first().reset_index()\n",
    "end_point=allstation.groupby(by=['shape_id','shape_group']).last().reset_index()"
   ]
  },
  {
   "cell_type": "code",
   "execution_count": 6,
   "metadata": {
    "collapsed": false
   },
   "outputs": [],
   "source": [
    "end_point['geometry']=end_point[['shape_pt_lat','shape_pt_lon']].apply(lambda x: Point(x[0],x[1]),axis=1)"
   ]
  },
  {
   "cell_type": "markdown",
   "metadata": {},
   "source": [
    "#read speed, find nearest start_end point for each station"
   ]
  },
  {
   "cell_type": "code",
   "execution_count": 13,
   "metadata": {
    "collapsed": false
   },
   "outputs": [],
   "source": [
    "def distance(xlat,xlon,ylat,ylon):\n",
    "\n",
    "    dlon = ylon - xlon\n",
    "    dlat = ylat - xlat\n",
    "\n",
    "    a = sin(dlat / 2)**2 + cos(xlat) * cos(ylat) * sin(dlon / 2)**2\n",
    "    c = 2 * atan2(sqrt(a), sqrt(1 - a))\n",
    "\n",
    "    distance = R * c\n",
    "    return distance"
   ]
  },
  {
   "cell_type": "code",
   "execution_count": 15,
   "metadata": {
    "collapsed": false
   },
   "outputs": [],
   "source": [
    "speed=df.from_csv('speed.txt',sep='|',index_col=None,header=None)\n",
    "speed.columns=['route_id','station_id','direction','shape_id','speed/mph']\n",
    "station=df.from_csv('stops.txt')[['stop_lat','stop_lon']]\n",
    "# station['geometry']=station[['stop_lat','stop_lon']].apply(lambda x: Point(x[0],x[1]),axis=1)"
   ]
  },
  {
   "cell_type": "code",
   "execution_count": 18,
   "metadata": {
    "collapsed": false
   },
   "outputs": [],
   "source": [
    "tmp=speed.merge(station,how='left',right_index=True,left_on='station_id')\n",
    "tmp=tmp.dropna()\n",
    "tmp['shape_group']=0"
   ]
  },
  {
   "cell_type": "code",
   "execution_count": 19,
   "metadata": {
    "collapsed": false
   },
   "outputs": [],
   "source": [
    "for i in tmp.index:\n",
    "    speed_row=tmp.ix[i]\n",
    "    xlat=speed_row['stop_lat']\n",
    "    xlon=speed_row['stop_lon']\n",
    "    shape_id=speed_row['shape_id']\n",
    "    list_of_points=end_point[end_point['shape_id']==shape_id]\n",
    "    mindist=1000000.0\n",
    "    for y in list_of_points.index:\n",
    "        ylat=float(list_of_points.ix[[y],['shape_pt_lat']].values[0])\n",
    "        ylon=float(list_of_points.ix[[y],['shape_pt_lon']].values[0])\n",
    "        dist=distance(xlat,xlon,ylat,ylon)\n",
    "        if dist<mindist:\n",
    "            mindist=dist\n",
    "            tmp_row=list_of_points.ix[y]\n",
    "    tmp.ix[[i],['shape_group']]=tmp_row.shape_group"
   ]
  },
  {
   "cell_type": "markdown",
   "metadata": {},
   "source": [
    "#generate geojson with speed for each line"
   ]
  },
  {
   "cell_type": "code",
   "execution_count": 26,
   "metadata": {
    "collapsed": false
   },
   "outputs": [],
   "source": [
    "finaltable=allstation.merge(tmp,how='left',on=['shape_id','shape_group']).dropna()[['route_id',\\\n",
    "        'shape_id','shape_pt_lat','shape_pt_lon','shape_pt_sequence','shape_group','speed/mph']]"
   ]
  },
  {
   "cell_type": "code",
   "execution_count": 67,
   "metadata": {
    "collapsed": false
   },
   "outputs": [],
   "source": [
    "shapeline={}\n",
    "for i in set(finaltable.shape_id):\n",
    "    for j in set(finaltable[finaltable['shape_id']==i]['shape_group']):\n",
    "        tmpdict={}\n",
    "        line = LineString(zip (finaltable['shape_pt_lon'][(finaltable['shape_group']==j)&(finaltable['shape_id']==i)],\\\n",
    "                               finaltable['shape_pt_lat'][(finaltable['shape_group']==j)&(finaltable['shape_id']==i)]))\n",
    "        tmpdict['geometry']=line\n",
    "        tmpdict['speed']=max(finaltable['speed/mph'][(finaltable['shape_group']==j)&(finaltable['shape_id']==i)])\n",
    "        route=finaltable['route_id'][(finaltable['shape_group']==j)&(finaltable['shape_id']==i)].tolist()[0]\n",
    "        shapeline[route+'-'+str(i)+'-'+str(int(j))]=tmpdict"
   ]
  },
  {
   "cell_type": "markdown",
   "metadata": {},
   "source": [
    "#save to json"
   ]
  },
  {
   "cell_type": "code",
   "execution_count": 68,
   "metadata": {
    "collapsed": false
   },
   "outputs": [],
   "source": [
    "test=df(shapeline).transpose()\n",
    "test['id']=test.index\n",
    "a=test.to_json()"
   ]
  },
  {
   "cell_type": "code",
   "execution_count": 8,
   "metadata": {
    "collapsed": false
   },
   "outputs": [],
   "source": [
    "with open('speed_shape.json', 'w') as outfile:\n",
    "    outfile.write(a)"
   ]
  },
  {
   "cell_type": "code",
   "execution_count": 2,
   "metadata": {
    "collapsed": false
   },
   "outputs": [],
   "source": [
    "test=df.from_file('speed_shape.json')"
   ]
  },
  {
   "cell_type": "code",
   "execution_count": 4,
   "metadata": {
    "collapsed": false
   },
   "outputs": [],
   "source": [
    "redis_table=test[['id','length','speed']]"
   ]
  },
  {
   "cell_type": "code",
   "execution_count": 5,
   "metadata": {
    "collapsed": true
   },
   "outputs": [],
   "source": [
    "redis_table.to_csv('redis_table.csv')"
   ]
  },
  {
   "cell_type": "code",
   "execution_count": 6,
   "metadata": {
    "collapsed": true
   },
   "outputs": [],
   "source": [
    "redis_table=df.from_csv('redis_table.csv')"
   ]
  },
  {
   "cell_type": "code",
   "execution_count": 12,
   "metadata": {
    "collapsed": false
   },
   "outputs": [
    {
     "data": {
      "text/plain": [
       "'MTA NYCT_B1-B10157-12'"
      ]
     },
     "execution_count": 12,
     "metadata": {},
     "output_type": "execute_result"
    }
   ],
   "source": [
    "redis_table.ix[1][0]"
   ]
  },
  {
   "cell_type": "code",
   "execution_count": null,
   "metadata": {
    "collapsed": true
   },
   "outputs": [],
   "source": []
  }
 ],
 "metadata": {
  "kernelspec": {
   "display_name": "Python 2",
   "language": "python",
   "name": "python2"
  },
  "language_info": {
   "codemirror_mode": {
    "name": "ipython",
    "version": 2
   },
   "file_extension": ".py",
   "mimetype": "text/x-python",
   "name": "python",
   "nbconvert_exporter": "python",
   "pygments_lexer": "ipython2",
   "version": "2.7.10"
  }
 },
 "nbformat": 4,
 "nbformat_minor": 0
}
