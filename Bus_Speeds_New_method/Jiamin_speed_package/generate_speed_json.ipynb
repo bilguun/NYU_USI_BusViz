{
 "cells": [
  {
   "cell_type": "code",
   "execution_count": 3,
   "metadata": {
    "collapsed": false
   },
   "outputs": [],
   "source": [
    "from geopandas import GeoDataFrame as df\n",
    "import math\n",
    "from shapely.geometry import LineString,Point\n",
    "import json\n",
    "%matplotlib inline\n",
    "from geopandas import GeoSeries as ds\n",
    "import pandas as pd"
   ]
  },
  {
   "cell_type": "markdown",
   "metadata": {},
   "source": [
    "#from shape generate lines"
   ]
  },
  {
   "cell_type": "code",
   "execution_count": 4,
   "metadata": {
    "collapsed": false
   },
   "outputs": [],
   "source": [
    "shapes=df.from_csv('shapes.txt',index_col=None)\n",
    "shapes['shape_seq']=shapes['shape_pt_sequence'].apply(lambda x: math.floor(x/10000))\n",
    "shapes['shape_seq_id']=shapes[['shape_id','shape_seq']].apply(lambda x:str(x[0])+'-'+str(int(x[1])),axis=1)"
   ]
  },
  {
   "cell_type": "code",
   "execution_count": 5,
   "metadata": {
    "collapsed": true
   },
   "outputs": [],
   "source": [
    "distances=ds.from_csv('mta_shapes_meters_2014.csv',header=None)\n",
    "speeds=ds.from_csv('speed.txt',sep='\\t',header=None)\n",
    "trips=df.from_csv('trips.txt')"
   ]
  },
  {
   "cell_type": "code",
   "execution_count": 6,
   "metadata": {
    "collapsed": false
   },
   "outputs": [],
   "source": [
    "line_dict={}\n",
    "for shape_id in set(shapes.shape_seq_id):\n",
    "    try:\n",
    "        line=LineString(zip(shapes[shapes.shape_seq_id==shape_id]['shape_pt_lon'].values.tolist(),shapes[shapes.shape_seq_id==shape_id]['shape_pt_lat'].values.tolist()))\n",
    "        speed=speeds[shape_id]\n",
    "        distance=distances[shape_id]\n",
    "        shape_num=shape_id.split('-')[0]\n",
    "        route=list(set(trips[trips.shape_id==shape_num].index))[0]\n",
    "        line_dict[shape_id]={}\n",
    "        line_dict[shape_id]['speed']=speed\n",
    "        line_dict[shape_id]['distance']=distance\n",
    "        line_dict[shape_id]['geometry']=line\n",
    "        line_dict[shape_id]['route_id']=route\n",
    "    except:\n",
    "        pass"
   ]
  },
  {
   "cell_type": "code",
   "execution_count": 25,
   "metadata": {
    "collapsed": false
   },
   "outputs": [],
   "source": [
    "json_dump=df(line_dict).transpose()\n",
    "json_dump.reset_index(inplace=True)\n",
    "json_dump['shape_id']=json_dump['index'].apply(lambda x:x.split('-')[0])\n",
    "json_dump['shape_seq']=json_dump['index'].apply(lambda x:x.split('-')[1])\n",
    "json_dump.drop('index', axis=1, inplace=True)"
   ]
  },
  {
   "cell_type": "code",
   "execution_count": 26,
   "metadata": {
    "collapsed": false
   },
   "outputs": [],
   "source": [
    "with open('brooklyn_0804_speed_distance.geojson','w') as f:\n",
    "    f.write(json_dump.to_json())"
   ]
  },
  {
   "cell_type": "markdown",
   "metadata": {},
   "source": [
    "#dump to redis"
   ]
  },
  {
   "cell_type": "code",
   "execution_count": 27,
   "metadata": {
    "collapsed": false
   },
   "outputs": [],
   "source": [
    "import redis\n",
    "pool = redis.ConnectionPool(host='busvis.cloudapp.net', port=6379, db=10)\n",
    "r = redis.Redis(connection_pool=pool)"
   ]
  },
  {
   "cell_type": "code",
   "execution_count": null,
   "metadata": {
    "collapsed": false
   },
   "outputs": [],
   "source": [
    "for i in set(json_dump.route_id):\n",
    "    r.hset('speed_distance',i,json_dump[json_dump.route_id==i].to_json())"
   ]
  },
  {
   "cell_type": "markdown",
   "metadata": {
    "collapsed": false
   },
   "source": [
    "#test"
   ]
  },
  {
   "cell_type": "code",
   "execution_count": null,
   "metadata": {
    "collapsed": false
   },
   "outputs": [],
   "source": [
    "eval(r.hget('speed_distance','B38'))"
   ]
  },
  {
   "cell_type": "code",
   "execution_count": null,
   "metadata": {
    "collapsed": false
   },
   "outputs": [],
   "source": [
    "df.from_file('brooklyn_0804_speed_distance.geojson')"
   ]
  },
  {
   "cell_type": "code",
   "execution_count": null,
   "metadata": {
    "collapsed": true
   },
   "outputs": [],
   "source": []
  }
 ],
 "metadata": {
  "kernelspec": {
   "display_name": "Python 2",
   "language": "python",
   "name": "python2"
  },
  "language_info": {
   "codemirror_mode": {
    "name": "ipython",
    "version": 2
   },
   "file_extension": ".py",
   "mimetype": "text/x-python",
   "name": "python",
   "nbconvert_exporter": "python",
   "pygments_lexer": "ipython2",
   "version": "2.7.10"
  }
 },
 "nbformat": 4,
 "nbformat_minor": 0
}
